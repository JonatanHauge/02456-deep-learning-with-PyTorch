{
 "cells": [
  {
   "cell_type": "markdown",
   "id": "30d9b348",
   "metadata": {},
   "source": [
    "# Notes / best practices"
   ]
  },
  {
   "cell_type": "markdown",
   "id": "cca643bf",
   "metadata": {},
   "source": [
    "### Fighting overfitting\n",
    "\n",
    "Dropout (Applied to fully connected layers, not to convolutions or pooling layers)\n",
    "\n",
    "Regularization\n",
    "\n",
    "Batch-normalization\n",
    "\n",
    "Expanding the dataset\n",
    "\n",
    "Convolution and pooling also works as a kind of regularization\n",
    "\n",
    "Early stopping\n",
    "\n",
    "Change the learning rate as a function of epochs"
   ]
  },
  {
   "cell_type": "code",
   "execution_count": null,
   "id": "691b9c15",
   "metadata": {},
   "outputs": [],
   "source": []
  },
  {
   "cell_type": "markdown",
   "id": "c11ff9b9",
   "metadata": {},
   "source": [
    "### Remember:\n",
    "\n",
    "Model.train / model.eval to avoid dropout on the evaluation\n",
    "\n",
    "Zero the gradient after each call to backprop/backward"
   ]
  },
  {
   "cell_type": "code",
   "execution_count": null,
   "id": "3f1468f3",
   "metadata": {},
   "outputs": [],
   "source": []
  },
  {
   "cell_type": "code",
   "execution_count": null,
   "id": "871d5e28",
   "metadata": {},
   "outputs": [],
   "source": []
  },
  {
   "cell_type": "code",
   "execution_count": null,
   "id": "b32a4270",
   "metadata": {},
   "outputs": [],
   "source": []
  },
  {
   "cell_type": "code",
   "execution_count": null,
   "id": "99bb2e5a",
   "metadata": {},
   "outputs": [],
   "source": []
  }
 ],
 "metadata": {
  "kernelspec": {
   "display_name": "Python 3 (ipykernel)",
   "language": "python",
   "name": "python3"
  },
  "language_info": {
   "codemirror_mode": {
    "name": "ipython",
    "version": 3
   },
   "file_extension": ".py",
   "mimetype": "text/x-python",
   "name": "python",
   "nbconvert_exporter": "python",
   "pygments_lexer": "ipython3",
   "version": "3.10.0"
  }
 },
 "nbformat": 4,
 "nbformat_minor": 5
}
